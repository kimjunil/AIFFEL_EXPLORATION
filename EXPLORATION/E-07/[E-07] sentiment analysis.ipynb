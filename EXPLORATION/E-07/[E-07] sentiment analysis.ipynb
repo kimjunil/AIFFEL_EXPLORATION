{
 "cells": [
  {
   "cell_type": "markdown",
   "id": "increased-outline",
   "metadata": {},
   "source": [
    "## Setup"
   ]
  },
  {
   "cell_type": "code",
   "execution_count": 1,
   "id": "first-strand",
   "metadata": {},
   "outputs": [],
   "source": [
    "import pandas as pd\n",
    "import urllib.request\n",
    "%matplotlib inline\n",
    "import matplotlib.pyplot as plt\n",
    "import re\n",
    "from konlpy.tag import Okt\n",
    "from tensorflow import keras\n",
    "from tensorflow.keras.preprocessing.text import Tokenizer\n",
    "import numpy as np\n",
    "from tensorflow.keras.preprocessing.sequence import pad_sequences\n",
    "from collections import Counter\n",
    "import os"
   ]
  },
  {
   "cell_type": "markdown",
   "id": "manufactured-trigger",
   "metadata": {},
   "source": [
    "### Utility Functions"
   ]
  },
  {
   "cell_type": "code",
   "execution_count": 2,
   "id": "suspended-polls",
   "metadata": {},
   "outputs": [],
   "source": [
    "import matplotlib.pyplot as plt\n",
    "\n",
    "# 문장 1개를 활용할 딕셔너리와 함께 주면, 단어 인덱스 리스트 벡터로 변환해 주는 함수입니다. \n",
    "# 단, 모든 문장은 <BOS>로 시작하는 것으로 합니다. \n",
    "def get_encoded_sentence(sentence, word_to_index):\n",
    "    return [word_to_index['<BOS>']]+[word_to_index[word] if word in word_to_index else word_to_index['<UNK>'] for word in sentence.split()]\n",
    "\n",
    "# 여러 개의 문장 리스트를 한꺼번에 단어 인덱스 리스트 벡터로 encode해 주는 함수입니다. \n",
    "def get_encoded_sentences(sentences, word_to_index):\n",
    "    return [get_encoded_sentence(sentence, word_to_index) for sentence in sentences]\n",
    "\n",
    "# 숫자 벡터로 encode된 문장을 원래대로 decode하는 함수입니다. \n",
    "def get_decoded_sentence(encoded_sentence, index_to_word):\n",
    "    return ' '.join(index_to_word[index] if index in index_to_word else '<UNK>' for index in encoded_sentence[1:])  #[1:]를 통해 <BOS>를 제외\n",
    "\n",
    "# 여러 개의 숫자 벡터로 encode된 문장을 한꺼번에 원래대로 decode하는 함수입니다. \n",
    "def get_decoded_sentences(encoded_sentences, index_to_word):\n",
    "    return [get_decoded_sentence(encoded_sentence, index_to_word) for encoded_sentence in encoded_sentences]\n",
    "\n",
    "def draw_loss_plot(history):\n",
    "    history_dict = history.history\n",
    "\n",
    "    acc = history_dict['accuracy']\n",
    "    val_acc = history_dict['val_accuracy']\n",
    "    loss = history_dict['loss']\n",
    "    val_loss = history_dict['val_loss']\n",
    "\n",
    "    epochs = range(1, len(acc) + 1)\n",
    "\n",
    "    # \"bo\"는 \"파란색 점\"입니다\n",
    "    plt.plot(epochs, loss, 'bo', label='Training loss')\n",
    "    # b는 \"파란 실선\"입니다\n",
    "    plt.plot(epochs, val_loss, 'b', label='Validation loss')\n",
    "    plt.title('Training and validation loss')\n",
    "    plt.xlabel('Epochs')\n",
    "    plt.ylabel('Loss')\n",
    "    plt.legend()\n",
    "\n",
    "    plt.show()\n",
    "\n",
    "def print_predict(model, X_test, y_test, print_row=3):\n",
    "    # Evaluate the model on the test data using `evaluate`\n",
    "    print(\"===\",model.__class__.__name__,\"===\")\n",
    "    print(\"Evaluate on test data\")\n",
    "    results = model.evaluate(X_test, y_test, batch_size=128)\n",
    "    print(\"test loss, test acc:\", results)\n",
    "    \n",
    "    predictions = model.predict(X_test)\n",
    "\n",
    "    for idx, pred in enumerate(predictions[:print_row]):\n",
    "        \n",
    "        if (pred>0.5):\n",
    "            posneg = \"\\033[92m긍정\\033[0m\"\n",
    "        else:\n",
    "            posneg = \"\\033[91m부정\\033[0m\"\n",
    "            \n",
    "        escape = [\"<PAD>\",\"<BOS>\",\"<END>\", \"<UNK>\"]\n",
    "        comment = [x for x in get_decoded_sentence(X_test[idx], index_to_word).split() if x not in escape]\n",
    "        \n",
    "        print('[{0}:{1:0.3f}] {2}'.format(posneg, pred[0], \"\".join(comment)))\n",
    "        \n",
    "    print()\n",
    "    import os\n",
    "\n",
    "def save_word2vec(model):\n",
    "    model_name= model.__class__.__name__\n",
    "    # 학습한 Embedding 파라미터를 파일에 써서 저장합니다. \n",
    "    word2vec_file_path = os.getenv('HOME')+'/aiffel/sentiment_classification/data/word2vec_{}.txt'.format(model_name)\n",
    "    f = open(word2vec_file_path, 'w')\n",
    "    f.write('{} {}\\n'.format(vocab_size-4, word_vector_dim))  # 몇개의 벡터를 얼마 사이즈로 기재할지 타이틀을 씁니다.\n",
    "\n",
    "    # 단어 개수(에서 특수문자 4개는 제외하고)만큼의 워드 벡터를 파일에 기록합니다. \n",
    "    vectors = model.get_weights()[0]\n",
    "    for i in range(4,vocab_size):\n",
    "        f.write('{} {}\\n'.format(index_to_word[i], ' '.join(map(str, list(vectors[i, :])))))\n",
    "    f.close()\n",
    "    return word2vec_file_path\n"
   ]
  },
  {
   "cell_type": "markdown",
   "id": "worth-maple",
   "metadata": {},
   "source": [
    "## Data 준비"
   ]
  },
  {
   "cell_type": "code",
   "execution_count": 3,
   "id": "comfortable-antenna",
   "metadata": {},
   "outputs": [
    {
     "data": {
      "text/html": [
       "<div>\n",
       "<style scoped>\n",
       "    .dataframe tbody tr th:only-of-type {\n",
       "        vertical-align: middle;\n",
       "    }\n",
       "\n",
       "    .dataframe tbody tr th {\n",
       "        vertical-align: top;\n",
       "    }\n",
       "\n",
       "    .dataframe thead th {\n",
       "        text-align: right;\n",
       "    }\n",
       "</style>\n",
       "<table border=\"1\" class=\"dataframe\">\n",
       "  <thead>\n",
       "    <tr style=\"text-align: right;\">\n",
       "      <th></th>\n",
       "      <th>id</th>\n",
       "      <th>document</th>\n",
       "      <th>label</th>\n",
       "    </tr>\n",
       "  </thead>\n",
       "  <tbody>\n",
       "    <tr>\n",
       "      <th>0</th>\n",
       "      <td>6270596</td>\n",
       "      <td>굳 ㅋ</td>\n",
       "      <td>1</td>\n",
       "    </tr>\n",
       "    <tr>\n",
       "      <th>1</th>\n",
       "      <td>9274899</td>\n",
       "      <td>GDNTOPCLASSINTHECLUB</td>\n",
       "      <td>0</td>\n",
       "    </tr>\n",
       "    <tr>\n",
       "      <th>2</th>\n",
       "      <td>8544678</td>\n",
       "      <td>뭐야 이 평점들은.... 나쁘진 않지만 10점 짜리는 더더욱 아니잖아</td>\n",
       "      <td>0</td>\n",
       "    </tr>\n",
       "    <tr>\n",
       "      <th>3</th>\n",
       "      <td>6825595</td>\n",
       "      <td>지루하지는 않은데 완전 막장임... 돈주고 보기에는....</td>\n",
       "      <td>0</td>\n",
       "    </tr>\n",
       "    <tr>\n",
       "      <th>4</th>\n",
       "      <td>6723715</td>\n",
       "      <td>3D만 아니었어도 별 다섯 개 줬을텐데.. 왜 3D로 나와서 제 심기를 불편하게 하죠??</td>\n",
       "      <td>0</td>\n",
       "    </tr>\n",
       "  </tbody>\n",
       "</table>\n",
       "</div>"
      ],
      "text/plain": [
       "        id                                           document  label\n",
       "0  6270596                                                굳 ㅋ      1\n",
       "1  9274899                               GDNTOPCLASSINTHECLUB      0\n",
       "2  8544678             뭐야 이 평점들은.... 나쁘진 않지만 10점 짜리는 더더욱 아니잖아      0\n",
       "3  6825595                   지루하지는 않은데 완전 막장임... 돈주고 보기에는....      0\n",
       "4  6723715  3D만 아니었어도 별 다섯 개 줬을텐데.. 왜 3D로 나와서 제 심기를 불편하게 하죠??      0"
      ]
     },
     "execution_count": 3,
     "metadata": {},
     "output_type": "execute_result"
    }
   ],
   "source": [
    "train_data = pd.read_table('~/aiffel/sentiment_classification/data/ratings_train.txt')\n",
    "test_data = pd.read_table('~/aiffel/sentiment_classification/data/ratings_test.txt')\n",
    "\n",
    "test_data.head()"
   ]
  },
  {
   "cell_type": "markdown",
   "id": "caroline-alfred",
   "metadata": {},
   "source": [
    "## Load data"
   ]
  },
  {
   "cell_type": "markdown",
   "id": "successful-insertion",
   "metadata": {},
   "source": [
    "### 데이터의 중복 제거"
   ]
  },
  {
   "cell_type": "code",
   "execution_count": 4,
   "id": "acoustic-network",
   "metadata": {
    "scrolled": true
   },
   "outputs": [
    {
     "name": "stdout",
     "output_type": "stream",
     "text": [
      "             id document  label\n",
      "1058    5890638        4      0\n",
      "1097    2062443       쵝오      1\n",
      "1248    3502685       최고      1\n",
      "1483     775332       최고      1\n",
      "1707    8009134      재밌다      1\n",
      "...         ...      ...    ...\n",
      "149919  6502490        짱      1\n",
      "149949  3924716    OO 영화      0\n",
      "149960  6368431     지루하다      0\n",
      "149966  6735753        1      0\n",
      "149987  7669621  재미있어요^^      1\n",
      "\n",
      "[3817 rows x 3 columns]\n"
     ]
    }
   ],
   "source": [
    "# 중복 데이터 확인\n",
    "print(train_data[train_data.duplicated(\"document\")])"
   ]
  },
  {
   "cell_type": "code",
   "execution_count": 5,
   "id": "legendary-avatar",
   "metadata": {},
   "outputs": [
    {
     "data": {
      "text/plain": [
       "0"
      ]
     },
     "execution_count": 5,
     "metadata": {},
     "output_type": "execute_result"
    }
   ],
   "source": [
    "train_data = train_data.drop_duplicates(\"document\")\n",
    "test_data = test_data.drop_duplicates(\"document\")\n",
    "len(train_data[train_data.duplicated(\"document\")])"
   ]
  },
  {
   "cell_type": "markdown",
   "id": "downtown-machine",
   "metadata": {},
   "source": [
    "### NaN 결측치 제거"
   ]
  },
  {
   "cell_type": "code",
   "execution_count": 6,
   "id": "needed-wheat",
   "metadata": {},
   "outputs": [
    {
     "data": {
      "text/plain": [
       "id          0\n",
       "document    1\n",
       "label       0\n",
       "dtype: int64"
      ]
     },
     "execution_count": 6,
     "metadata": {},
     "output_type": "execute_result"
    }
   ],
   "source": [
    "#결측치 확인\n",
    "train_data.isna().sum()"
   ]
  },
  {
   "cell_type": "code",
   "execution_count": 7,
   "id": "similar-ambassador",
   "metadata": {
    "scrolled": false
   },
   "outputs": [
    {
     "data": {
      "text/plain": [
       "id          0\n",
       "document    0\n",
       "label       0\n",
       "dtype: int64"
      ]
     },
     "execution_count": 7,
     "metadata": {},
     "output_type": "execute_result"
    }
   ],
   "source": [
    "train_data = train_data.dropna(axis=0)\n",
    "test_data = test_data.dropna(axis=0)\n",
    "train_data.isna().sum()"
   ]
  },
  {
   "cell_type": "markdown",
   "id": "mechanical-median",
   "metadata": {},
   "source": [
    "### 한국어 토크나이저로 토큰화"
   ]
  },
  {
   "cell_type": "code",
   "execution_count": 8,
   "id": "colonial-nigeria",
   "metadata": {},
   "outputs": [],
   "source": [
    "from konlpy.tag import Mecab\n",
    "tokenizer = Mecab()\n",
    "\n",
    "def tokenize_sentence(sentence):\n",
    "#     sentence = re.sub(r'[^가-힣 ]', \"\", sentence)\n",
    "    return [x[0] for x in tokenizer.pos(sentence)]\n",
    "    \n",
    "\n",
    "def tokenize_sentences(sentences):\n",
    "    token = []\n",
    "    \n",
    "    for sentence in sentences:\n",
    "        token.extend(tokenize_sentence(sentence))\n",
    "\n",
    "    return token # list(set(token))\n"
   ]
  },
  {
   "cell_type": "markdown",
   "id": "consecutive-balance",
   "metadata": {},
   "source": [
    "### 불용어(Stopwords) 제거"
   ]
  },
  {
   "cell_type": "code",
   "execution_count": 9,
   "id": "addressed-favor",
   "metadata": {},
   "outputs": [],
   "source": [
    "def remove_stopwords(tokens):\n",
    "    stopwords = ['의','가','이','은','들','는','좀','잘','걍','과','도','를','으로','자','에','와','한','하다']\n",
    "    return [word for word in tokens if word not in stopwords]\n",
    "    "
   ]
  },
  {
   "cell_type": "markdown",
   "id": "mighty-tenant",
   "metadata": {},
   "source": [
    "### 사전word_to_index 구성"
   ]
  },
  {
   "cell_type": "code",
   "execution_count": 10,
   "id": "interesting-violence",
   "metadata": {},
   "outputs": [],
   "source": [
    "def token_to_dic(tokens, num_words=10000):\n",
    "    \n",
    "    word_count = {}\n",
    "    \n",
    "    for token in tokens:\n",
    "        try: word_count[token] += 1\n",
    "        except: word_count[token] = 1\n",
    "            \n",
    "    sorted_token = sorted(word_count.items(), key=lambda x:x[1], reverse=True)[:num_words]\n",
    "    \n",
    "    word_to_index = { word[0]:idx+3 for idx, word in enumerate(sorted_token) }\n",
    "    word_to_index[\"<PAD>\"] = 0\n",
    "    word_to_index[\"<BOS>\"] = 1\n",
    "    word_to_index[\"<UNK>\"] = 2\n",
    "    return word_to_index"
   ]
  },
  {
   "cell_type": "markdown",
   "id": "swiss-compensation",
   "metadata": {},
   "source": [
    "### 텍스트 스트링을 사전 인덱스 스트링으로 변환"
   ]
  },
  {
   "cell_type": "code",
   "execution_count": 11,
   "id": "exclusive-hanging",
   "metadata": {},
   "outputs": [],
   "source": [
    "def encoding_sentence(sentence, word_to_index):\n",
    "    result = [word_to_index[\"<BOS>\"]]\n",
    "    for token in tokenize_sentence(sentence):\n",
    "        try : result.append(word_to_index[token])\n",
    "        except : result.append(word_to_index[\"<UNK>\"])\n",
    "            \n",
    "    return result\n",
    "\n",
    "def encoding_sentences(sentences, word_to_index):\n",
    "    return [encoding_sentence(x, word_to_index) for x in sentences ]\n"
   ]
  },
  {
   "cell_type": "markdown",
   "id": "personalized-lighting",
   "metadata": {},
   "source": [
    "### X_train, y_train, X_test, y_test, word_to_index 리턴"
   ]
  },
  {
   "cell_type": "code",
   "execution_count": 12,
   "id": "genuine-expert",
   "metadata": {},
   "outputs": [],
   "source": [
    "def load_data(train_data, test_data, num_words=10000):\n",
    "    token = tokenize_sentences(train_data[\"document\"])\n",
    "    token = remove_stopwords(token)\n",
    "    word_to_index = token_to_dic(token, num_words)\n",
    "    \n",
    "    train_data[\"document\"] = encoding_sentences(train_data[\"document\"], word_to_index)\n",
    "    test_data[\"document\"] = encoding_sentences(test_data[\"document\"], word_to_index)\n",
    "    \n",
    "    return train_data[\"document\"], train_data[\"label\"], test_data[\"document\"], test_data[\"label\"], word_to_index"
   ]
  },
  {
   "cell_type": "markdown",
   "id": "complimentary-rochester",
   "metadata": {},
   "source": [
    "### Load data "
   ]
  },
  {
   "cell_type": "code",
   "execution_count": 13,
   "id": "native-wings",
   "metadata": {},
   "outputs": [],
   "source": [
    "num_words = 50000\n",
    "X_train, y_train, X_test, y_test, word_to_index = load_data(train_data, test_data, num_words)\n",
    "index_to_word = {index:word for word, index in word_to_index.items()}"
   ]
  },
  {
   "cell_type": "markdown",
   "id": "bronze-savannah",
   "metadata": {},
   "source": [
    "## 인코딩 된 데이터 확인"
   ]
  },
  {
   "cell_type": "code",
   "execution_count": 14,
   "id": "touched-seeker",
   "metadata": {},
   "outputs": [
    {
     "data": {
      "text/plain": [
       "'아 더 빙 . . 진짜 짜증 나 네요 목소리'"
      ]
     },
     "execution_count": 14,
     "metadata": {},
     "output_type": "execute_result"
    }
   ],
   "source": [
    "get_decoded_sentence(X_train[0], index_to_word)"
   ]
  },
  {
   "cell_type": "code",
   "execution_count": 15,
   "id": "combined-banner",
   "metadata": {},
   "outputs": [
    {
     "name": "stdout",
     "output_type": "stream",
     "text": [
      "문장길이 평균 :  19.72297390690031\n",
      "문장길이 최대 :  117\n",
      "문장길이 표준편차 :  15.329503337998032\n",
      "pad_sequences maxlen :  50\n",
      "전체 문장의 93.47%가 maxlen 설정값 이내에 포함됩니다. \n"
     ]
    }
   ],
   "source": [
    "total_data_text = list(X_train) + list(X_test)\n",
    "\n",
    "num_tokens = [len(tokens) for tokens in total_data_text]\n",
    "num_tokens = np.array(num_tokens)\n",
    "\n",
    "print('문장길이 평균 : ', np.mean(num_tokens))\n",
    "print('문장길이 최대 : ', np.max(num_tokens))\n",
    "print('문장길이 표준편차 : ', np.std(num_tokens))\n",
    "\n",
    "max_tokens = np.mean(num_tokens) + 2 * np.std(num_tokens)\n",
    "maxlen = int(max_tokens)\n",
    "print('pad_sequences maxlen : ', maxlen)\n",
    "print('전체 문장의 {0:0.2f}%가 maxlen 설정값 이내에 포함됩니다. '.format((np.sum(num_tokens < max_tokens) / len(num_tokens) * 100)))"
   ]
  },
  {
   "cell_type": "markdown",
   "id": "green-weapon",
   "metadata": {},
   "source": [
    "## pad_sequences"
   ]
  },
  {
   "cell_type": "code",
   "execution_count": 16,
   "id": "incredible-equation",
   "metadata": {},
   "outputs": [
    {
     "name": "stdout",
     "output_type": "stream",
     "text": [
      "(146182, 50)\n"
     ]
    }
   ],
   "source": [
    "X_train = keras.preprocessing.sequence.pad_sequences(X_train,\n",
    "                                                        value=word_to_index[\"<PAD>\"],\n",
    "                                                        padding='pre',\n",
    "                                                        maxlen=maxlen)\n",
    "\n",
    "X_test = keras.preprocessing.sequence.pad_sequences(X_test,\n",
    "                                                       value=word_to_index[\"<PAD>\"],\n",
    "                                                       padding='pre',\n",
    "                                                       maxlen=maxlen)\n",
    "\n",
    "print(X_train.shape)"
   ]
  },
  {
   "cell_type": "code",
   "execution_count": 17,
   "id": "oriental-organ",
   "metadata": {},
   "outputs": [
    {
     "data": {
      "text/plain": [
       "'<PAD> <PAD> <PAD> <PAD> <PAD> <PAD> <PAD> <PAD> <PAD> <PAD> <PAD> <PAD> <PAD> <PAD> <PAD> <PAD> <PAD> <PAD> <PAD> <PAD> <PAD> <PAD> <PAD> <PAD> <PAD> <PAD> <PAD> <PAD> <PAD> <PAD> <PAD> <BOS> 흠 . .. 포스터 보고 초딩 영화 줄 . ... 오버 연기 조차 가볍 지 않 구나'"
      ]
     },
     "execution_count": 17,
     "metadata": {},
     "output_type": "execute_result"
    }
   ],
   "source": [
    "get_decoded_sentence(X_train[1], index_to_word)"
   ]
  },
  {
   "cell_type": "markdown",
   "id": "assured-kruger",
   "metadata": {},
   "source": [
    "### Training / Validation 데이터 분리"
   ]
  },
  {
   "cell_type": "code",
   "execution_count": 18,
   "id": "nominated-entity",
   "metadata": {},
   "outputs": [
    {
     "name": "stdout",
     "output_type": "stream",
     "text": [
      "(116182, 50)\n",
      "(116182,)\n"
     ]
    }
   ],
   "source": [
    "# validation set 10000건 분리\n",
    "X_val = X_train[:30000]   \n",
    "y_val = y_train[:30000]\n",
    "\n",
    "# validation set을 제외한 나머지 15000건\n",
    "partial_X_train = X_train[30000:]  \n",
    "partial_y_train = y_train[30000:]\n",
    "\n",
    "print(partial_X_train.shape)\n",
    "print(partial_y_train.shape)"
   ]
  },
  {
   "cell_type": "markdown",
   "id": "liked-video",
   "metadata": {},
   "source": [
    "### Modeling"
   ]
  },
  {
   "cell_type": "code",
   "execution_count": 19,
   "id": "aerial-distribution",
   "metadata": {},
   "outputs": [],
   "source": [
    "vocab_size = len(word_to_index)\n",
    "word_vector_dim = 16    \n",
    "embadding_layer = keras.layers.Embedding(vocab_size, word_vector_dim)"
   ]
  },
  {
   "cell_type": "code",
   "execution_count": 20,
   "id": "german-watershed",
   "metadata": {},
   "outputs": [],
   "source": [
    "class CnnModel(keras.Model):\n",
    "    \n",
    "    def __init__(self, embadding_layer = embadding_layer):\n",
    "        super(CnnModel, self).__init__()\n",
    "        self.embadding = embadding_layer\n",
    "        self.conv1 = keras.layers.Conv1D(16, 2, activation='relu')\n",
    "        self.pooling1 = keras.layers.MaxPooling1D(5)\n",
    "        self.conv2 = keras.layers.Conv1D(16, 2, activation='relu')\n",
    "        self.pooling2 = keras.layers.GlobalMaxPooling1D()\n",
    "        self.dense1 = keras.layers.Dense(8, activation='relu')\n",
    "        self.dense2 = keras.layers.Dense(1, activation='sigmoid')\n",
    "    \n",
    "    def call(self, input):\n",
    "        x = self.embadding(input)\n",
    "        x = self.conv1(x)\n",
    "        x = self.pooling1(x)\n",
    "        x = self.conv2(x)\n",
    "        x = self.pooling2(x)\n",
    "        x = self.dense1(x)\n",
    "        return self.dense2(x)\n",
    "    "
   ]
  },
  {
   "cell_type": "code",
   "execution_count": 21,
   "id": "stuffed-danger",
   "metadata": {},
   "outputs": [],
   "source": [
    "class RnnModel(keras.Model):\n",
    "    \n",
    "    def __init__(self, embadding_layer = embadding_layer):\n",
    "        super(RnnModel, self).__init__()\n",
    "        self.embadding = embadding_layer\n",
    "        self.lstm = keras.layers.LSTM(32)\n",
    "        self.dense1 = keras.layers.Dense(8, activation='relu')\n",
    "        self.dense2 = keras.layers.Dense(1, activation='sigmoid')\n",
    "    \n",
    "    def call(self, input):\n",
    "        x = self.embadding(input)\n",
    "        x = self.lstm(x)\n",
    "        x = self.dense1(x)\n",
    "        return self.dense2(x)\n",
    "    "
   ]
  },
  {
   "cell_type": "code",
   "execution_count": 22,
   "id": "respective-interface",
   "metadata": {},
   "outputs": [],
   "source": [
    "class CnnRnnModel(keras.Model):\n",
    "    \n",
    "    def __init__(self, embadding_layer = embadding_layer):\n",
    "        super(CnnRnnModel, self).__init__()\n",
    "        self.embadding = embadding_layer\n",
    "        self.conv1 = keras.layers.Conv1D(16, 2, activation='relu')\n",
    "        self.pooling1 = keras.layers.MaxPooling1D(5)\n",
    "        self.lstm = keras.layers.LSTM(8)\n",
    "        self.dense1 = keras.layers.Dense(8, activation='relu')\n",
    "        self.dense2 = keras.layers.Dense(1, activation='sigmoid')\n",
    "    \n",
    "    def call(self, input):\n",
    "        x = self.embadding(input)\n",
    "        x = self.conv1(x)\n",
    "        x = self.pooling1(x)\n",
    "        x = self.lstm(x)\n",
    "        x = self.dense1(x)\n",
    "        return self.dense2(x)\n",
    "    "
   ]
  },
  {
   "cell_type": "code",
   "execution_count": 24,
   "id": "general-anthony",
   "metadata": {
    "scrolled": true
   },
   "outputs": [
    {
     "name": "stdout",
     "output_type": "stream",
     "text": [
      "Model: \"cnn_model\"\n",
      "_________________________________________________________________\n",
      "Layer (type)                 Output Shape              Param #   \n",
      "=================================================================\n",
      "embedding (Embedding)        multiple                  800048    \n",
      "_________________________________________________________________\n",
      "conv1d (Conv1D)              multiple                  528       \n",
      "_________________________________________________________________\n",
      "max_pooling1d (MaxPooling1D) multiple                  0         \n",
      "_________________________________________________________________\n",
      "conv1d_1 (Conv1D)            multiple                  528       \n",
      "_________________________________________________________________\n",
      "global_max_pooling1d (Global multiple                  0         \n",
      "_________________________________________________________________\n",
      "dense (Dense)                multiple                  136       \n",
      "_________________________________________________________________\n",
      "dense_1 (Dense)              multiple                  9         \n",
      "=================================================================\n",
      "Total params: 801,249\n",
      "Trainable params: 801,249\n",
      "Non-trainable params: 0\n",
      "_________________________________________________________________\n"
     ]
    }
   ],
   "source": [
    "cnn_model = CnnModel()\n",
    "cnn_model.build(input_shape=(None, word_vector_dim))\n",
    "cnn_model.summary()"
   ]
  },
  {
   "cell_type": "code",
   "execution_count": 25,
   "id": "mysterious-macedonia",
   "metadata": {},
   "outputs": [
    {
     "name": "stdout",
     "output_type": "stream",
     "text": [
      "Epoch 1/5\n",
      "227/227 [==============================] - 9s 23ms/step - loss: 0.6350 - accuracy: 0.6372 - val_loss: 0.4623 - val_accuracy: 0.7690\n",
      "Epoch 2/5\n",
      "227/227 [==============================] - 2s 9ms/step - loss: 0.4184 - accuracy: 0.8050 - val_loss: 0.4499 - val_accuracy: 0.7757\n",
      "Epoch 3/5\n",
      "227/227 [==============================] - 2s 9ms/step - loss: 0.3618 - accuracy: 0.8357 - val_loss: 0.4603 - val_accuracy: 0.7798\n",
      "Epoch 4/5\n",
      "227/227 [==============================] - 2s 9ms/step - loss: 0.3224 - accuracy: 0.8551 - val_loss: 0.4730 - val_accuracy: 0.7792\n",
      "Epoch 5/5\n",
      "227/227 [==============================] - 2s 9ms/step - loss: 0.2878 - accuracy: 0.8720 - val_loss: 0.4954 - val_accuracy: 0.7770\n"
     ]
    },
    {
     "data": {
      "image/png": "[encoded data removed]",
      "text/plain": [
       "<Figure size 432x288 with 1 Axes>"
      ]
     },
     "metadata": {
      "needs_background": "light"
     },
     "output_type": "display_data"
    }
   ],
   "source": [
    "cnn_model.compile(optimizer='adam',\n",
    "              loss='binary_crossentropy',\n",
    "              metrics=['accuracy'])\n",
    "              \n",
    "epochs=5  # 몇 epoch를 훈련하면 좋을지 결과를 보면서 바꾸어 봅시다. \n",
    "\n",
    "history = cnn_model.fit(partial_X_train,\n",
    "                    partial_y_train,\n",
    "                    epochs=epochs,\n",
    "                    batch_size=512,\n",
    "                    validation_data=(X_val, y_val),\n",
    "                    verbose=1)\n",
    "\n",
    "draw_loss_plot(history)"
   ]
  },
  {
   "cell_type": "code",
   "execution_count": 26,
   "id": "romantic-exposure",
   "metadata": {
    "scrolled": true
   },
   "outputs": [
    {
     "name": "stdout",
     "output_type": "stream",
     "text": [
      "Model: \"rnn_model\"\n",
      "_________________________________________________________________\n",
      "Layer (type)                 Output Shape              Param #   \n",
      "=================================================================\n",
      "embedding (Embedding)        multiple                  800048    \n",
      "_________________________________________________________________\n",
      "lstm (LSTM)                  multiple                  6272      \n",
      "_________________________________________________________________\n",
      "dense_2 (Dense)              multiple                  264       \n",
      "_________________________________________________________________\n",
      "dense_3 (Dense)              multiple                  9         \n",
      "=================================================================\n",
      "Total params: 806,593\n",
      "Trainable params: 806,593\n",
      "Non-trainable params: 0\n",
      "_________________________________________________________________\n"
     ]
    }
   ],
   "source": [
    "rnn_model = RnnModel()\n",
    "rnn_model.build(input_shape=(None,1))\n",
    "rnn_model.summary()"
   ]
  },
  {
   "cell_type": "code",
   "execution_count": 27,
   "id": "broken-competition",
   "metadata": {},
   "outputs": [
    {
     "name": "stdout",
     "output_type": "stream",
     "text": [
      "Epoch 1/5\n",
      "227/227 [==============================] - 6s 17ms/step - loss: 0.5724 - accuracy: 0.7763 - val_loss: 0.3657 - val_accuracy: 0.8411\n",
      "Epoch 2/5\n",
      "227/227 [==============================] - 3s 15ms/step - loss: 0.2936 - accuracy: 0.8801 - val_loss: 0.3619 - val_accuracy: 0.8475\n",
      "Epoch 3/5\n",
      "227/227 [==============================] - 3s 15ms/step - loss: 0.2584 - accuracy: 0.8984 - val_loss: 0.3677 - val_accuracy: 0.8455\n",
      "Epoch 4/5\n",
      "227/227 [==============================] - 3s 15ms/step - loss: 0.2402 - accuracy: 0.9074 - val_loss: 0.3772 - val_accuracy: 0.8450\n",
      "Epoch 5/5\n",
      "227/227 [==============================] - 3s 15ms/step - loss: 0.2215 - accuracy: 0.9165 - val_loss: 0.4047 - val_accuracy: 0.8370\n"
     ]
    },
    {
     "data": {
      "image/png": "[encoded data removed]",
      "text/plain": [
       "<Figure size 432x288 with 1 Axes>"
      ]
     },
     "metadata": {
      "needs_background": "light"
     },
     "output_type": "display_data"
    }
   ],
   "source": [
    "rnn_model.compile(optimizer='adam',\n",
    "              loss='binary_crossentropy',\n",
    "              metrics=['accuracy'])\n",
    "              \n",
    "epochs=5  # 몇 epoch를 훈련하면 좋을지 결과를 보면서 바꾸어 봅시다. \n",
    "\n",
    "history = rnn_model.fit(partial_X_train,\n",
    "                    partial_y_train,\n",
    "                    epochs=epochs,\n",
    "                    batch_size=512,\n",
    "                    validation_data=(X_val, y_val),\n",
    "                    verbose=1)\n",
    "\n",
    "draw_loss_plot(history)"
   ]
  },
  {
   "cell_type": "code",
   "execution_count": 28,
   "id": "indonesian-albany",
   "metadata": {},
   "outputs": [
    {
     "name": "stdout",
     "output_type": "stream",
     "text": [
      "Model: \"cnn_rnn_model\"\n",
      "_________________________________________________________________\n",
      "Layer (type)                 Output Shape              Param #   \n",
      "=================================================================\n",
      "embedding (Embedding)        multiple                  800048    \n",
      "_________________________________________________________________\n",
      "conv1d_2 (Conv1D)            multiple                  528       \n",
      "_________________________________________________________________\n",
      "max_pooling1d_1 (MaxPooling1 multiple                  0         \n",
      "_________________________________________________________________\n",
      "lstm_1 (LSTM)                multiple                  800       \n",
      "_________________________________________________________________\n",
      "dense_4 (Dense)              multiple                  72        \n",
      "_________________________________________________________________\n",
      "dense_5 (Dense)              multiple                  9         \n",
      "=================================================================\n",
      "Total params: 801,457\n",
      "Trainable params: 801,457\n",
      "Non-trainable params: 0\n",
      "_________________________________________________________________\n"
     ]
    }
   ],
   "source": [
    "cnn_rnn_model = CnnRnnModel()\n",
    "cnn_rnn_model.build(input_shape=(None, word_vector_dim))\n",
    "cnn_rnn_model.summary()"
   ]
  },
  {
   "cell_type": "code",
   "execution_count": 29,
   "id": "approximate-posting",
   "metadata": {},
   "outputs": [
    {
     "name": "stdout",
     "output_type": "stream",
     "text": [
      "Epoch 1/5\n",
      "227/227 [==============================] - 5s 12ms/step - loss: 0.5754 - accuracy: 0.7052 - val_loss: 0.4647 - val_accuracy: 0.7744\n",
      "Epoch 2/5\n",
      "227/227 [==============================] - 2s 10ms/step - loss: 0.3259 - accuracy: 0.8517 - val_loss: 0.4788 - val_accuracy: 0.7776\n",
      "Epoch 3/5\n",
      "227/227 [==============================] - 2s 11ms/step - loss: 0.2955 - accuracy: 0.8657 - val_loss: 0.5006 - val_accuracy: 0.7779\n",
      "Epoch 4/5\n",
      "227/227 [==============================] - 3s 11ms/step - loss: 0.2702 - accuracy: 0.8780 - val_loss: 0.5360 - val_accuracy: 0.7701\n",
      "Epoch 5/5\n",
      "227/227 [==============================] - 3s 11ms/step - loss: 0.2521 - accuracy: 0.8858 - val_loss: 0.5509 - val_accuracy: 0.7726\n"
     ]
    },
    {
     "data": {
      "image/png": "[encoded data removed]",
      "text/plain": [
       "<Figure size 432x288 with 1 Axes>"
      ]
     },
     "metadata": {
      "needs_background": "light"
     },
     "output_type": "display_data"
    }
   ],
   "source": [
    "cnn_rnn_model.compile(optimizer='adam',\n",
    "              loss='binary_crossentropy',\n",
    "              metrics=['accuracy'])\n",
    "              \n",
    "epochs=5  # 몇 epoch를 훈련하면 좋을지 결과를 보면서 바꾸어 봅시다. \n",
    "\n",
    "history = cnn_rnn_model.fit(partial_X_train,\n",
    "                    partial_y_train,\n",
    "                    epochs=epochs,\n",
    "                    batch_size=512,\n",
    "                    validation_data=(X_val, y_val),\n",
    "                    verbose=1)\n",
    "\n",
    "draw_loss_plot(history)"
   ]
  },
  {
   "cell_type": "code",
   "execution_count": 30,
   "id": "greek-pennsylvania",
   "metadata": {},
   "outputs": [
    {
     "name": "stdout",
     "output_type": "stream",
     "text": [
      "=== CnnModel ===\n",
      "Evaluate on test data\n",
      "385/385 [==============================] - 2s 4ms/step - loss: 0.6947 - accuracy: 0.7496\n",
      "test loss, test acc: [0.6947115659713745, 0.7496389150619507]\n",
      "[\u001b[91m부정\u001b[0m:0.484] 굳ㅋ\n",
      "[\u001b[91m부정\u001b[0m:0.484] \n",
      "[\u001b[91m부정\u001b[0m:0.134] 뭐야평점....나쁘진않지만10점짜리더더욱아니잖아\n",
      "\n",
      "=== RnnModel ===\n",
      "Evaluate on test data\n",
      "385/385 [==============================] - 2s 4ms/step - loss: 0.5906 - accuracy: 0.7855\n",
      "test loss, test acc: [0.5905643105506897, 0.7855442762374878]\n",
      "[\u001b[92m긍정\u001b[0m:0.594] 굳ㅋ\n",
      "[\u001b[91m부정\u001b[0m:0.050] \n",
      "[\u001b[92m긍정\u001b[0m:0.828] 뭐야평점....나쁘진않지만10점짜리더더욱아니잖아\n",
      "\n",
      "=== CnnRnnModel ===\n",
      "Evaluate on test data\n",
      "385/385 [==============================] - 1s 3ms/step - loss: 0.5534 - accuracy: 0.7708\n",
      "test loss, test acc: [0.5533689260482788, 0.7707549333572388]\n",
      "[\u001b[92m긍정\u001b[0m:0.536] 굳ㅋ\n",
      "[\u001b[92m긍정\u001b[0m:0.536] \n",
      "[\u001b[91m부정\u001b[0m:0.323] 뭐야평점....나쁘진않지만10점짜리더더욱아니잖아\n",
      "\n"
     ]
    }
   ],
   "source": [
    "models = [cnn_model, rnn_model, cnn_rnn_model]\n",
    "for model in models:\n",
    "    print_predict(model, X_test, y_test)"
   ]
  },
  {
   "cell_type": "code",
   "execution_count": 31,
   "id": "secret-charter",
   "metadata": {},
   "outputs": [
    {
     "data": {
      "text/plain": [
       "'/aiffel/aiffel/sentiment_classification/data/word2vec_RnnModel.txt'"
      ]
     },
     "execution_count": 31,
     "metadata": {},
     "output_type": "execute_result"
    }
   ],
   "source": [
    "word_vector_path = save_word2vec(rnn_model)\n",
    "word_vector_path"
   ]
  },
  {
   "cell_type": "code",
   "execution_count": 32,
   "id": "optional-stylus",
   "metadata": {},
   "outputs": [
    {
     "name": "stdout",
     "output_type": "stream",
     "text": [
      "[('봉', 0.9240758419036865), ('완전', 0.9114515781402588), ('너무나', 0.9008835554122925), ('흥분', 0.8826147317886353), ('식인', 0.879928708076477)]\n"
     ]
    }
   ],
   "source": [
    "from gensim.models.keyedvectors import Word2VecKeyedVectors\n",
    "\n",
    "word_vectors = Word2VecKeyedVectors.load_word2vec_format(word_vector_path, binary=False)\n",
    "print(word_vectors.similar_by_word(\"너무\")[:5])"
   ]
  },
  {
   "cell_type": "markdown",
   "id": "critical-restaurant",
   "metadata": {},
   "source": [
    "## Word2Vec"
   ]
  },
  {
   "cell_type": "markdown",
   "id": "august-agriculture",
   "metadata": {},
   "source": [
    "### Load Word2Vec "
   ]
  },
  {
   "cell_type": "code",
   "execution_count": 33,
   "id": "private-stomach",
   "metadata": {},
   "outputs": [],
   "source": [
    "import gensim\n",
    "from gensim.models.keyedvectors import Word2VecKeyedVectors\n",
    "\n",
    "word2vec_path = os.getenv('HOME')+'/aiffel/exploration/ex7/data/ko.bin'\n",
    "\n",
    "word_vectors = gensim.models.Word2Vec.load(word2vec_path)"
   ]
  },
  {
   "cell_type": "code",
   "execution_count": 34,
   "id": "arbitrary-surge",
   "metadata": {
    "scrolled": true
   },
   "outputs": [
    {
     "name": "stderr",
     "output_type": "stream",
     "text": [
      "/opt/conda/lib/python3.7/site-packages/ipykernel_launcher.py:1: DeprecationWarning: Call to deprecated `similar_by_word` (Method will be removed in 4.0.0, use self.wv.similar_by_word() instead).\n",
      "  \"\"\"Entry point for launching an IPython kernel.\n"
     ]
    },
    {
     "data": {
      "text/plain": [
       "[('워낙', 0.7798625826835632),\n",
       " ('굉장히', 0.7619446516036987),\n",
       " ('상당히', 0.7366923093795776),\n",
       " ('꽤', 0.736415445804596),\n",
       " ('너무나', 0.7270296216011047),\n",
       " ('매우', 0.7263840436935425),\n",
       " ('대단히', 0.6926696300506592),\n",
       " ('아주', 0.6923656463623047),\n",
       " ('엄청', 0.6503588557243347),\n",
       " ('그만큼', 0.647625207901001)]"
      ]
     },
     "execution_count": 34,
     "metadata": {},
     "output_type": "execute_result"
    }
   ],
   "source": [
    "word_vectors.similar_by_word(\"너무\")"
   ]
  },
  {
   "cell_type": "code",
   "execution_count": 35,
   "id": "clean-survivor",
   "metadata": {
    "scrolled": true
   },
   "outputs": [
    {
     "name": "stderr",
     "output_type": "stream",
     "text": [
      "/opt/conda/lib/python3.7/site-packages/ipykernel_launcher.py:7: DeprecationWarning: Call to deprecated `__contains__` (Method will be removed in 4.0.0, use self.wv.__contains__() instead).\n",
      "  import sys\n",
      "/opt/conda/lib/python3.7/site-packages/ipykernel_launcher.py:8: DeprecationWarning: Call to deprecated `__getitem__` (Method will be removed in 4.0.0, use self.wv.__getitem__() instead).\n",
      "  \n"
     ]
    }
   ],
   "source": [
    "vocab_size = num_words+3  \n",
    "word_vector_dim = 200 \n",
    "\n",
    "embedding_matrix = np.random.rand(vocab_size, word_vector_dim)\n",
    "\n",
    "for i in range(4,vocab_size):\n",
    "    if index_to_word[i] in word_vectors:\n",
    "        embedding_matrix[i] = word_vectors[index_to_word[i]]\n",
    "        "
   ]
  },
  {
   "cell_type": "code",
   "execution_count": 36,
   "id": "internal-dublin",
   "metadata": {
    "scrolled": true
   },
   "outputs": [
    {
     "name": "stdout",
     "output_type": "stream",
     "text": [
      "Model: \"rnn_model2\"\n",
      "_________________________________________________________________\n",
      "Layer (type)                 Output Shape              Param #   \n",
      "=================================================================\n",
      "embedding_1 (Embedding)      multiple                  10000600  \n",
      "_________________________________________________________________\n",
      "lstm_2 (LSTM)                multiple                  29824     \n",
      "_________________________________________________________________\n",
      "dense_6 (Dense)              multiple                  264       \n",
      "_________________________________________________________________\n",
      "dense_7 (Dense)              multiple                  9         \n",
      "=================================================================\n",
      "Total params: 10,030,697\n",
      "Trainable params: 10,030,697\n",
      "Non-trainable params: 0\n",
      "_________________________________________________________________\n",
      "Epoch 1/5\n",
      "227/227 [==============================] - 17s 68ms/step - loss: 0.5688 - accuracy: 0.6897 - val_loss: 0.4020 - val_accuracy: 0.8206\n",
      "Epoch 2/5\n",
      "227/227 [==============================] - 15s 66ms/step - loss: 0.3523 - accuracy: 0.8477 - val_loss: 0.3419 - val_accuracy: 0.8532\n",
      "Epoch 3/5\n",
      "227/227 [==============================] - 14s 63ms/step - loss: 0.2882 - accuracy: 0.8830 - val_loss: 0.3346 - val_accuracy: 0.8572\n",
      "Epoch 4/5\n",
      "227/227 [==============================] - 14s 62ms/step - loss: 0.2482 - accuracy: 0.9009 - val_loss: 0.3427 - val_accuracy: 0.8573\n",
      "Epoch 5/5\n",
      "227/227 [==============================] - 15s 65ms/step - loss: 0.2082 - accuracy: 0.9198 - val_loss: 0.3557 - val_accuracy: 0.8564\n"
     ]
    },
    {
     "data": {
      "image/png": "[encoded data removed]",
      "text/plain": [
       "<Figure size 432x288 with 1 Axes>"
      ]
     },
     "metadata": {
      "needs_background": "light"
     },
     "output_type": "display_data"
    }
   ],
   "source": [
    "from tensorflow.keras.initializers import Constant\n",
    "\n",
    "embadding_layer = keras.layers.Embedding(vocab_size, \n",
    "                                         word_vector_dim,\n",
    "                                         embeddings_initializer=Constant(embedding_matrix),  # 카피한 임베딩을 여기서 활용\n",
    "                                         input_length=maxlen, \n",
    "                                         trainable=True)\n",
    "\n",
    "# 학습의 진행\n",
    "rnn_model = RnnModel(embadding_layer)\n",
    "rnn_model.build(input_shape=(None,1))\n",
    "rnn_model.summary()\n",
    "\n",
    "rnn_model.compile(optimizer='adam',\n",
    "              loss='binary_crossentropy',\n",
    "              metrics=['accuracy'])\n",
    "              \n",
    "epochs=5  # 몇 epoch를 훈련하면 좋을지 결과를 보면서 바꾸어 봅시다. \n",
    "\n",
    "history = rnn_model.fit(partial_X_train,\n",
    "                    partial_y_train,\n",
    "                    epochs=epochs,\n",
    "                    batch_size=512,\n",
    "                    validation_data=(X_val, y_val),\n",
    "                    verbose=1)\n",
    "\n",
    "draw_loss_plot(history)"
   ]
  },
  {
   "cell_type": "code",
   "execution_count": 37,
   "id": "level-bankruptcy",
   "metadata": {},
   "outputs": [
    {
     "name": "stdout",
     "output_type": "stream",
     "text": [
      "=== RnnModel2 ===\n",
      "Evaluate on test data\n",
      "385/385 [==============================] - 2s 5ms/step - loss: 0.3616 - accuracy: 0.8505\n",
      "test loss, test acc: [0.36161261796951294, 0.8505401015281677]\n",
      "[\u001b[92m긍정\u001b[0m:0.977] 굳ㅋ\n",
      "[\u001b[91m부정\u001b[0m:0.439] \n",
      "[\u001b[91m부정\u001b[0m:0.457] 뭐야평점....나쁘진않지만10점짜리더더욱아니잖아\n",
      "[\u001b[91m부정\u001b[0m:0.028] 지루하지않은데완전막장임...돈주고보기....\n",
      "[\u001b[91m부정\u001b[0m:0.064] 3D만아니었어도별다섯개줬을텐데..왜3D로나와서제심기불편하게하죠??\n",
      "[\u001b[92m긍정\u001b[0m:0.976] 음악주된,최고음악영화\n",
      "[\u001b[91m부정\u001b[0m:0.030] 진정쓰레기\n",
      "[\u001b[91m부정\u001b[0m:0.026] 마치미국애니에서튀어나온듯창의력없로봇디자인부터,고개젖게한다\n",
      "[\u001b[91m부정\u001b[0m:0.005] 갈수록개판되중국영화유치하고내용없음폼잡다끝남말안되무기유치cg아그립다동사서독같영화이건3류아류작다\n",
      "[\u001b[92m긍정\u001b[0m:0.963] 이별아픔뒤찾아오새로운인연기쁨But,모든사람그렇지않네..\n",
      "\n"
     ]
    }
   ],
   "source": [
    "print_predict(rnn_model, X_test, y_test, 10)"
   ]
  },
  {
   "cell_type": "markdown",
   "id": "fabulous-express",
   "metadata": {},
   "source": [
    "## 결과"
   ]
  },
  {
   "cell_type": "markdown",
   "id": "incredible-assembly",
   "metadata": {},
   "source": [
    "* Conv레이어를 사용한 모델, LSTM 레이어를 사용한 모델, 두가지를 모두 사용한 모델 중 LSTM 레이어를 사용한 모델이 성능이 약간 좋아보인다\n",
    "    * 하이퍼파라미터의 영향 같기도 하다..?\n",
    "* 5 epochs 이상으로 학습하면 Training/Test Loss간의 이격이 커진다.\n",
    "* 네이버 리뷰 단어들로만 만든 단어 벡터는 단어간의 거리를 제대로 만들어내지 못하는 것으로 보인다\n",
    "* 한국어 Word2Vec 임베딩을 사용했을 때는 직접 만든 것보다 비슷한 단어를 잘 찾아냈다.\n",
    "* 한국어 Word2Vec 임베딩을 사용하여 학습했을 때 성능이 향상되었다."
   ]
  }
 ],
 "metadata": {
  "kernelspec": {
   "display_name": "Python 3",
   "language": "python",
   "name": "python3"
  },
  "language_info": {
   "codemirror_mode": {
    "name": "ipython",
    "version": 3
   },
   "file_extension": ".py",
   "mimetype": "text/x-python",
   "name": "python",
   "nbconvert_exporter": "python",
   "pygments_lexer": "ipython3",
   "version": "3.7.9"
  }
 },
 "nbformat": 4,
 "nbformat_minor": 5
}
