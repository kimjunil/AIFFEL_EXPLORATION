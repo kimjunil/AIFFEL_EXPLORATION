{
 "cells": [
  {
   "cell_type": "markdown",
   "id": "impressed-monday",
   "metadata": {},
   "source": [
    "# [E-01] rock_scissor_paper"
   ]
  },
  {
   "cell_type": "code",
   "execution_count": 1,
   "id": "exotic-officer",
   "metadata": {},
   "outputs": [],
   "source": [
    "from PIL import Image\n",
    "import os, glob\n",
    "import numpy as np\n",
    "import tensorflow as tf\n",
    "from tensorflow import keras\n",
    "import numpy as np"
   ]
  },
  {
   "cell_type": "code",
   "execution_count": 2,
   "id": "signal-workshop",
   "metadata": {},
   "outputs": [],
   "source": [
    "def resize_images(image_path):\n",
    "    \"\"\" 28*28 이미지 리사이즈 \"\"\"\n",
    "    print(image_path, \"resizing...\")\n",
    "    #  glob 모듈의 glob 함수는 사용자가 제시한 조건에 맞는 파일명을 리스트 형식으로 반환한다\n",
    "    images = glob.glob(image_path+\"/*.jpg\")\n",
    "    \n",
    "    count = 0\n",
    "    target_size = (28, 28)\n",
    "    for img in images:\n",
    "        old_image = Image.open(img)\n",
    "        new_image = old_image.resize(target_size,Image.ANTIALIAS)\n",
    "        new_image.save(img, \"JPEG\")\n",
    "        count += 1\n",
    "        \n",
    "    print(count, \"images resizied\")"
   ]
  },
  {
   "cell_type": "code",
   "execution_count": 3,
   "id": "alien-stereo",
   "metadata": {
    "scrolled": true
   },
   "outputs": [],
   "source": [
    "def load_data(img_path, number_of_data=300):  # 가위바위보 이미지 개수 총합에 주의하세요.\n",
    "    # 가위 : 0, 바위 : 1, 보 : 2\n",
    "    img_size=28\n",
    "    color=3\n",
    "    #이미지 데이터와 라벨(가위 : 0, 바위 : 1, 보 : 2) 데이터를 담을 행렬(matrix) 영역을 생성합니다.\n",
    "    imgs=np.zeros(number_of_data*img_size*img_size*color,dtype=np.int32).reshape(number_of_data,img_size,img_size,color)\n",
    "    labels=np.zeros(number_of_data,dtype=np.int32)\n",
    "\n",
    "    idx=0\n",
    "    scissor = 0\n",
    "    rock = 0\n",
    "    paper = 0\n",
    "    for file in glob.iglob(img_path+'/scissor/*.jpg'):\n",
    "        img = np.array(Image.open(file),dtype=np.int32)\n",
    "        imgs[idx,:,:,:]=img    # 데이터 영역에 이미지 행렬을 복사\n",
    "        labels[idx]=0   # 가위 : 0\n",
    "        idx=idx+1\n",
    "        scissor=scissor+1\n",
    "\n",
    "    for file in glob.iglob(img_path+'/rock/*.jpg'):\n",
    "        img = np.array(Image.open(file),dtype=np.int32)\n",
    "        imgs[idx,:,:,:]=img    # 데이터 영역에 이미지 행렬을 복사\n",
    "        labels[idx]=1   # 바위 : 1\n",
    "        idx=idx+1  \n",
    "        rock=rock+1\n",
    "    \n",
    "    for file in glob.iglob(img_path+'/paper/*.jpg'):\n",
    "        img = np.array(Image.open(file),dtype=np.int32)\n",
    "        imgs[idx,:,:,:]=img    # 데이터 영역에 이미지 행렬을 복사\n",
    "        labels[idx]=2   # 보 : 2\n",
    "        idx=idx+1\n",
    "        paper=paper+1\n",
    "        \n",
    "    print(\"불러온 이미지 개수는\", idx,\"개 입니다.\")\n",
    "    print(\"scissor\", scissor,\"개,\",\"rock\", rock,\"개,\",\"paper\", paper,\"개\")\n",
    "    return imgs, labels\n",
    "\n",
    "# image_dir_path = os.getenv(\"HOME\") + \"/aiffel/rock_scissor_paper\"\n",
    "# (x_train, y_train)=load_data(image_dir_path)\n",
    "# x_train_norm = x_train/255.0   # 입력은 0~1 사이의 값으로 정규화\n",
    "\n",
    "# print(\"x_train shape: {}\".format(x_train.shape))\n",
    "# print(\"y_train shape: {}\".format(y_train.shape))"
   ]
  },
  {
   "cell_type": "markdown",
   "id": "vietnamese-cornell",
   "metadata": {},
   "source": [
    "## 이미지 사이즈 변환"
   ]
  },
  {
   "cell_type": "code",
   "execution_count": 4,
   "id": "innovative-million",
   "metadata": {},
   "outputs": [
    {
     "name": "stdout",
     "output_type": "stream",
     "text": [
      "/aiffel/aiffel/rock_scissor_paper/scissor resizing...\n",
      "100 images resizied\n",
      "/aiffel/aiffel/rock_scissor_paper/rock resizing...\n",
      "100 images resizied\n",
      "/aiffel/aiffel/rock_scissor_paper/paper resizing...\n",
      "100 images resizied\n"
     ]
    }
   ],
   "source": [
    "path = os.getenv(\"HOME\") + \"/aiffel/rock_scissor_paper/scissor\"\n",
    "resize_images(path)\n",
    "path = os.getenv(\"HOME\") + \"/aiffel/rock_scissor_paper/rock\"\n",
    "resize_images(path)\n",
    "path = os.getenv(\"HOME\") + \"/aiffel/rock_scissor_paper/paper\"\n",
    "resize_images(path)"
   ]
  },
  {
   "cell_type": "code",
   "execution_count": 12,
   "id": "configured-paintball",
   "metadata": {},
   "outputs": [
    {
     "name": "stdout",
     "output_type": "stream",
     "text": [
      "불러온 이미지 개수는 300 개 입니다.\n",
      "scissor 100 개, rock 100 개, paper 100 개\n",
      "x_train shape: (300, 28, 28, 3)\n",
      "y_train shape: (300,)\n",
      "라벨:  2\n"
     ]
    },
    {
     "data": {
      "image/png": "[encoded data removed]",
      "text/plain": [
       "<Figure size 432x288 with 1 Axes>"
      ]
     },
     "metadata": {
      "needs_background": "light"
     },
     "output_type": "display_data"
    }
   ],
   "source": [
    "image_dir_path = os.getenv(\"HOME\") + \"/aiffel/rock_scissor_paper\"\n",
    "(x_train, y_train)=load_data(image_dir_path)\n",
    "x_train_norm = x_train/255.0   # 입력은 0~1 사이의 값으로 정규화\n",
    "\n",
    "print(\"x_train shape: {}\".format(x_train.shape))\n",
    "print(\"y_train shape: {}\".format(y_train.shape))\n",
    "\n",
    "import matplotlib.pyplot as plt\n",
    "plt.imshow(x_train[201])\n",
    "print('라벨: ', y_train[201])"
   ]
  },
  {
   "cell_type": "code",
   "execution_count": 13,
   "id": "reasonable-practice",
   "metadata": {},
   "outputs": [
    {
     "name": "stdout",
     "output_type": "stream",
     "text": [
      "Model: \"sequential_1\"\n",
      "_________________________________________________________________\n",
      "Layer (type)                 Output Shape              Param #   \n",
      "=================================================================\n",
      "conv2d_2 (Conv2D)            (None, 26, 26, 32)        896       \n",
      "_________________________________________________________________\n",
      "max_pooling2d_2 (MaxPooling2 (None, 13, 13, 32)        0         \n",
      "_________________________________________________________________\n",
      "conv2d_3 (Conv2D)            (None, 11, 11, 64)        18496     \n",
      "_________________________________________________________________\n",
      "max_pooling2d_3 (MaxPooling2 (None, 5, 5, 64)          0         \n",
      "_________________________________________________________________\n",
      "flatten_1 (Flatten)          (None, 1600)              0         \n",
      "_________________________________________________________________\n",
      "dense_2 (Dense)              (None, 128)               204928    \n",
      "_________________________________________________________________\n",
      "dense_3 (Dense)              (None, 3)                 387       \n",
      "=================================================================\n",
      "Total params: 224,707\n",
      "Trainable params: 224,707\n",
      "Non-trainable params: 0\n",
      "_________________________________________________________________\n"
     ]
    }
   ],
   "source": [
    "\n",
    "\n",
    "# model을 직접 만들어 보세요.\n",
    "# Hint! model의 입력/출력부에 특히 유의해 주세요. 가위바위보 데이터셋은 MNIST 데이터셋과 어떤 점이 달라졌나요?\n",
    "n_channel_1 = 32\n",
    "n_channel_2 = 64\n",
    "n_dense = 128\n",
    "\n",
    "model = keras.models.Sequential()\n",
    "model.add(keras.layers.Conv2D(n_channel_1, (3,3), activation='relu', input_shape=(28,28,3)))\n",
    "model.add(keras.layers.MaxPool2D(2,2))\n",
    "model.add(keras.layers.Conv2D(n_channel_2, (3,3), activation='relu'))\n",
    "model.add(keras.layers.MaxPooling2D((2,2)))\n",
    "model.add(keras.layers.Flatten())\n",
    "model.add(keras.layers.Dense(n_dense, activation='relu'))\n",
    "model.add(keras.layers.Dense(3, activation='softmax'))\n",
    "\n",
    "model.summary()"
   ]
  },
  {
   "cell_type": "code",
   "execution_count": 14,
   "id": "elegant-momentum",
   "metadata": {},
   "outputs": [
    {
     "name": "stdout",
     "output_type": "stream",
     "text": [
      "Epoch 1/15\n",
      "10/10 [==============================] - 0s 4ms/step - loss: 1.1385 - accuracy: 0.3773\n",
      "Epoch 2/15\n",
      "10/10 [==============================] - 0s 4ms/step - loss: 1.0605 - accuracy: 0.6068\n",
      "Epoch 3/15\n",
      "10/10 [==============================] - 0s 4ms/step - loss: 1.0341 - accuracy: 0.6858\n",
      "Epoch 4/15\n",
      "10/10 [==============================] - 0s 4ms/step - loss: 0.9982 - accuracy: 0.5801\n",
      "Epoch 5/15\n",
      "10/10 [==============================] - 0s 4ms/step - loss: 0.8938 - accuracy: 0.6906\n",
      "Epoch 6/15\n",
      "10/10 [==============================] - 0s 4ms/step - loss: 0.7330 - accuracy: 0.7823\n",
      "Epoch 7/15\n",
      "10/10 [==============================] - 0s 4ms/step - loss: 0.6318 - accuracy: 0.7229\n",
      "Epoch 8/15\n",
      "10/10 [==============================] - 0s 4ms/step - loss: 0.5710 - accuracy: 0.7793\n",
      "Epoch 9/15\n",
      "10/10 [==============================] - 0s 4ms/step - loss: 0.4035 - accuracy: 0.9058\n",
      "Epoch 10/15\n",
      "10/10 [==============================] - 0s 4ms/step - loss: 0.3118 - accuracy: 0.9146\n",
      "Epoch 11/15\n",
      "10/10 [==============================] - 0s 4ms/step - loss: 0.2532 - accuracy: 0.9477\n",
      "Epoch 12/15\n",
      "10/10 [==============================] - 0s 4ms/step - loss: 0.2136 - accuracy: 0.9578\n",
      "Epoch 13/15\n",
      "10/10 [==============================] - 0s 4ms/step - loss: 0.2058 - accuracy: 0.9421\n",
      "Epoch 14/15\n",
      "10/10 [==============================] - 0s 4ms/step - loss: 0.1245 - accuracy: 0.9685\n",
      "Epoch 15/15\n",
      "10/10 [==============================] - 0s 4ms/step - loss: 0.1213 - accuracy: 0.9914\n"
     ]
    },
    {
     "data": {
      "text/plain": [
       "<tensorflow.python.keras.callbacks.History at 0x7f051136a350>"
      ]
     },
     "execution_count": 14,
     "metadata": {},
     "output_type": "execute_result"
    }
   ],
   "source": [
    "n_train_epoch = 15\n",
    "\n",
    "model.compile(optimizer='adam',\n",
    "             loss='sparse_categorical_crossentropy',\n",
    "             metrics=['accuracy'])\n",
    "\n",
    "model.fit(x_train_norm, y_train, epochs=n_train_epoch)"
   ]
  },
  {
   "cell_type": "code",
   "execution_count": 15,
   "id": "healthy-explanation",
   "metadata": {},
   "outputs": [
    {
     "name": "stdout",
     "output_type": "stream",
     "text": [
      "/aiffel/aiffel/rock_scissor_paper/test/scissor resizing...\n",
      "100 images resizied\n",
      "/aiffel/aiffel/rock_scissor_paper/test/rock resizing...\n",
      "100 images resizied\n",
      "/aiffel/aiffel/rock_scissor_paper/test/paper resizing...\n",
      "100 images resizied\n",
      "불러온 이미지 개수는 300 개 입니다.\n",
      "scissor 100 개, rock 100 개, paper 100 개\n",
      "x_train shape: (300, 28, 28, 3)\n",
      "y_train shape: (300,)\n",
      "라벨:  2\n"
     ]
    },
    {
     "data": {
      "image/png": "[encoded data removed]",
      "text/plain": [
       "<Figure size 432x288 with 1 Axes>"
      ]
     },
     "metadata": {
      "needs_background": "light"
     },
     "output_type": "display_data"
    }
   ],
   "source": [
    "image_dir_path = os.getenv(\"HOME\") + \"/aiffel/rock_scissor_paper/test/scissor\"\n",
    "resize_images(image_dir_path)\n",
    "image_dir_path = os.getenv(\"HOME\") + \"/aiffel/rock_scissor_paper/test/rock\"\n",
    "resize_images(image_dir_path)\n",
    "image_dir_path = os.getenv(\"HOME\") + \"/aiffel/rock_scissor_paper/test/paper\"\n",
    "resize_images(image_dir_path)\n",
    "\n",
    "image_dir_path = os.getenv(\"HOME\") + \"/aiffel/rock_scissor_paper/test\"\n",
    "(x_test, y_test)=load_data(image_dir_path)\n",
    "x_test_norm = x_train/255.0   # 입력은 0~1 사이의 값으로 정규화\n",
    "\n",
    "print(\"x_train shape: {}\".format(x_test.shape))\n",
    "print(\"y_train shape: {}\".format(y_test.shape))\n",
    "\n",
    "plt.imshow(x_test[201])\n",
    "print('라벨: ', y_test[201])"
   ]
  },
  {
   "cell_type": "code",
   "execution_count": 16,
   "id": "meaning-sacramento",
   "metadata": {},
   "outputs": [
    {
     "name": "stdout",
     "output_type": "stream",
     "text": [
      "10/10 - 0s - loss: 0.1077 - accuracy: 0.9867\n",
      "test_loss: 0.10765978693962097\n",
      "test_accuracy: 0.9866666793823242\n"
     ]
    }
   ],
   "source": [
    "\n",
    "test_loss, test_accuracy = model.evaluate(x_test_norm, y_test, verbose=2)\n",
    "print('test_loss: {}'.format(test_loss))\n",
    "print('test_accuracy: {}'.format(test_accuracy))"
   ]
  },
  {
   "cell_type": "code",
   "execution_count": null,
   "id": "northern-definition",
   "metadata": {},
   "outputs": [],
   "source": []
  }
 ],
 "metadata": {
  "kernelspec": {
   "display_name": "Python 3",
   "language": "python",
   "name": "python3"
  },
  "language_info": {
   "codemirror_mode": {
    "name": "ipython",
    "version": 3
   },
   "file_extension": ".py",
   "mimetype": "text/x-python",
   "name": "python",
   "nbconvert_exporter": "python",
   "pygments_lexer": "ipython3",
   "version": "3.7.9"
  }
 },
 "nbformat": 4,
 "nbformat_minor": 5
}
