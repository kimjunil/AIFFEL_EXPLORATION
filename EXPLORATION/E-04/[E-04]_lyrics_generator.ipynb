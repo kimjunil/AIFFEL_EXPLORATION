{
  "nbformat": 4,
  "nbformat_minor": 0,
  "metadata": {
    "accelerator": "GPU",
    "colab": {
      "name": "lyrics.ipynb",
      "provenance": [],
      "collapsed_sections": [],
      "toc_visible": true
    },
    "kernelspec": {
      "display_name": "Python 3",
      "name": "python3"
    },
    "language_info": {
      "name": "python"
    }
  },
  "cells": [
    {
      "cell_type": "markdown",
      "metadata": {
        "id": "JSm9h0ikijDy"
      },
      "source": [
        "# 멋진 작사가 만들기"
      ]
    },
    {
      "cell_type": "markdown",
      "metadata": {
        "id": "TIPbfei95-Vx"
      },
      "source": [
        "## 데이터 준비하기"
      ]
    },
    {
      "cell_type": "markdown",
      "metadata": {
        "id": "BG0AVJfE6KO2"
      },
      "source": [
        "### GoogleDrive 마운트\n"
      ]
    },
    {
      "cell_type": "code",
      "metadata": {
        "colab": {
          "base_uri": "https://localhost:8080/"
        },
        "id": "Tn2Bw3mE1j6i",
        "outputId": "8c0bacf1-1069-4421-bf8c-1d6396bc0e40"
      },
      "source": [
        "from google.colab import drive\n",
        "drive.mount('/content/drive')"
      ],
      "execution_count": 1,
      "outputs": [
        {
          "output_type": "stream",
          "text": [
            "Drive already mounted at /content/drive; to attempt to forcibly remount, call drive.mount(\"/content/drive\", force_remount=True).\n"
          ],
          "name": "stdout"
        }
      ]
    },
    {
      "cell_type": "markdown",
      "metadata": {
        "id": "eRzPnCQe6Z0P"
      },
      "source": [
        "### 가사 데이터 불러오기"
      ]
    },
    {
      "cell_type": "code",
      "metadata": {
        "colab": {
          "base_uri": "https://localhost:8080/"
        },
        "id": "M2ba_fCzifJ3",
        "outputId": "cb6485d6-1c8a-49b8-9a92-2f3c02fd4acb"
      },
      "source": [
        "import glob\n",
        "import os\n",
        "import re\n",
        "import tensorflow as tf\n",
        "from sklearn.model_selection import train_test_split\n",
        "\n",
        "data_path = \"/content/drive/MyDrive/aiffel/ex04/lyrics/*\"\n",
        "\n",
        "txt_file_list = glob.glob(data_path)\n",
        "\n",
        "raw_corpus = []\n",
        "\n",
        "for file in txt_file_list:\n",
        "    with open(file, \"r\") as f:\n",
        "        line = f.read().splitlines()\n",
        "        raw_corpus.extend(line)\n",
        "        \n",
        "raw_corpus[:20]"
      ],
      "execution_count": 2,
      "outputs": [
        {
          "output_type": "execute_result",
          "data": {
            "text/plain": [
              "['The first words that come out',\n",
              " 'And I can see this song will be about you',\n",
              " \"I can't believe that I can breathe without you\",\n",
              " 'But all I need to do is carry on',\n",
              " 'The next line I write down',\n",
              " \"And there's a tear that falls between the pages\",\n",
              " \"I know that pain's supposed to heal in stages\",\n",
              " \"But it depends which one I'm standing on I write lines down, then rip them up\",\n",
              " \"Describing love can't be this tough I could set this song on fire, send it up in smoke\",\n",
              " 'I could throw it in the river and watch it sink in slowly',\n",
              " 'Tie the pages to a plane and send it to the moon',\n",
              " \"Play it for the world, but it won't mean much\",\n",
              " \"Unless I sing this song to you I'm dying to show you\",\n",
              " 'This could end happily ever after',\n",
              " \"There doesn't ever have to be disaster\",\n",
              " 'And all you have to do is sing along I write lines down, then rip them up',\n",
              " 'Impossible describing love I could set this song on fire, send it up in smoke',\n",
              " 'I could throw it in the river and watch it sink in slowly',\n",
              " 'Tie the pages to a plane and send it to the moon',\n",
              " \"Play it for the world, but it won't mean much\"]"
            ]
          },
          "metadata": {
            "tags": []
          },
          "execution_count": 2
        }
      ]
    },
    {
      "cell_type": "markdown",
      "metadata": {
        "id": "kZSLkaCJ9ov4"
      },
      "source": [
        "### 텍스트 전처리"
      ]
    },
    {
      "cell_type": "code",
      "metadata": {
        "id": "jJVu99oHjPMX"
      },
      "source": [
        "def preprocess_sentence(sentence):\n",
        "    sentence = re.sub(r\"([()?.!,¿])\", r\" \\1 \", sentence) \n",
        "    sentence = re.sub(r'[\" \"]+', \" \", sentence)\n",
        "    sentence = re.sub(r\"[^a-zA-Z?.!,¿']+\", \" \", sentence)\n",
        "    sentence = sentence.strip()\n",
        "    sentence = \"<start> \" + sentence + \" <end>\"\n",
        "    return sentence"
      ],
      "execution_count": 3,
      "outputs": []
    },
    {
      "cell_type": "code",
      "metadata": {
        "colab": {
          "base_uri": "https://localhost:8080/"
        },
        "id": "c8Athj5ujYCr",
        "outputId": "45244cfe-ac4c-4fde-c574-931635f30294"
      },
      "source": [
        "\n",
        "corpus = []\n",
        "\n",
        "for sentence in raw_corpus:\n",
        "\n",
        "    if len(sentence) == 0: continue\n",
        "    \n",
        "    preprocessed_sentence = preprocess_sentence(sentence)\n",
        "    corpus.append(preprocessed_sentence)\n",
        "        \n",
        "corpus[:20]"
      ],
      "execution_count": 4,
      "outputs": [
        {
          "output_type": "execute_result",
          "data": {
            "text/plain": [
              "['<start> The first words that come out <end>',\n",
              " '<start> And I can see this song will be about you <end>',\n",
              " \"<start> I can't believe that I can breathe without you <end>\",\n",
              " '<start> But all I need to do is carry on <end>',\n",
              " '<start> The next line I write down <end>',\n",
              " \"<start> And there's a tear that falls between the pages <end>\",\n",
              " \"<start> I know that pain's supposed to heal in stages <end>\",\n",
              " \"<start> But it depends which one I'm standing on I write lines down , then rip them up <end>\",\n",
              " \"<start> Describing love can't be this tough I could set this song on fire , send it up in smoke <end>\",\n",
              " '<start> I could throw it in the river and watch it sink in slowly <end>',\n",
              " '<start> Tie the pages to a plane and send it to the moon <end>',\n",
              " \"<start> Play it for the world , but it won't mean much <end>\",\n",
              " \"<start> Unless I sing this song to you I'm dying to show you <end>\",\n",
              " '<start> This could end happily ever after <end>',\n",
              " \"<start> There doesn't ever have to be disaster <end>\",\n",
              " '<start> And all you have to do is sing along I write lines down , then rip them up <end>',\n",
              " '<start> Impossible describing love I could set this song on fire , send it up in smoke <end>',\n",
              " '<start> I could throw it in the river and watch it sink in slowly <end>',\n",
              " '<start> Tie the pages to a plane and send it to the moon <end>',\n",
              " \"<start> Play it for the world , but it won't mean much <end>\"]"
            ]
          },
          "metadata": {
            "tags": []
          },
          "execution_count": 4
        }
      ]
    },
    {
      "cell_type": "code",
      "metadata": {
        "colab": {
          "base_uri": "https://localhost:8080/"
        },
        "id": "yjHGNpJpEkv5",
        "outputId": "13295198-cd5e-4662-cbd2-05dacb780c1d"
      },
      "source": [
        "sum([len(x.split(\" \")) for x in corpus])/len(corpus)\n"
      ],
      "execution_count": 5,
      "outputs": [
        {
          "output_type": "execute_result",
          "data": {
            "text/plain": [
              "10.211579330173992"
            ]
          },
          "metadata": {
            "tags": []
          },
          "execution_count": 5
        }
      ]
    },
    {
      "cell_type": "markdown",
      "metadata": {
        "id": "aziJUkAMFbST"
      },
      "source": [
        "한 문장에 평균 10단어 정도 사용됨"
      ]
    },
    {
      "cell_type": "code",
      "metadata": {
        "id": "WhGZKzvnGKF1"
      },
      "source": [
        "# 한 문장에 학습할 단어 수를 <start> <stop> 포함 17 단어로 제한\n",
        "corpus = [x for x in corpus if len(x.split())<(17)]"
      ],
      "execution_count": 6,
      "outputs": []
    },
    {
      "cell_type": "markdown",
      "metadata": {
        "id": "v4Z59oDIVYxt"
      },
      "source": [
        "### 토큰화"
      ]
    },
    {
      "cell_type": "code",
      "metadata": {
        "colab": {
          "base_uri": "https://localhost:8080/"
        },
        "id": "oNZeKBZ2jaWI",
        "outputId": "02941531-ec0f-4a72-9327-3bf3a227573d"
      },
      "source": [
        "def tokenize(corpus):\n",
        "    tokenizer = tf.keras.preprocessing.text.Tokenizer(\n",
        "        num_words=10000, \n",
        "        filters=' ',\n",
        "        oov_token=\"<unk>\"\n",
        "    )\n",
        "\n",
        "    tokenizer.fit_on_texts(corpus)\n",
        "    tensor = tokenizer.texts_to_sequences(corpus)   \n",
        "    tensor = tf.keras.preprocessing.sequence.pad_sequences(tensor, padding='post')  \n",
        "    \n",
        "    print(tensor,tokenizer)\n",
        "    return tensor, tokenizer\n",
        "\n",
        "tensor, tokenizer = tokenize(corpus)"
      ],
      "execution_count": 7,
      "outputs": [
        {
          "output_type": "stream",
          "text": [
            "[[  2   5 252 ...   0   0   0]\n",
            " [  2   8   6 ...   0   0   0]\n",
            " [  2   6  86 ...   0   0   0]\n",
            " ...\n",
            " [  2 240   1 ...   0   0   0]\n",
            " [  2  10 511 ...   0   0   0]\n",
            " [  2 122  18 ...   0   0   0]] <keras_preprocessing.text.Tokenizer object at 0x7fbc3edd7b10>\n"
          ],
          "name": "stdout"
        }
      ]
    },
    {
      "cell_type": "code",
      "metadata": {
        "colab": {
          "base_uri": "https://localhost:8080/"
        },
        "id": "uSqnSQhSjdYh",
        "outputId": "0084da2a-ad02-4a0b-ce24-fe6975be7816"
      },
      "source": [
        "src_input = tensor[:, :-1]  \n",
        "tgt_input = tensor[:, 1:]    \n",
        "print(src_input[0])\n",
        "print(tgt_input[0])"
      ],
      "execution_count": 8,
      "outputs": [
        {
          "output_type": "stream",
          "text": [
            "[  2   5 252 445  15  63  51   3   0   0   0   0   0   0   0]\n",
            "[  5 252 445  15  63  51   3   0   0   0   0   0   0   0   0]\n"
          ],
          "name": "stdout"
        }
      ]
    },
    {
      "cell_type": "markdown",
      "metadata": {
        "id": "pedjC0EeWNXt"
      },
      "source": [
        "## 학습시키기"
      ]
    },
    {
      "cell_type": "markdown",
      "metadata": {
        "id": "-jQA0Zq6WgGm"
      },
      "source": [
        "### train / val 데이터 분리"
      ]
    },
    {
      "cell_type": "code",
      "metadata": {
        "colab": {
          "base_uri": "https://localhost:8080/"
        },
        "id": "a8mPv7V1IkeF",
        "outputId": "8c99d143-9c64-4c71-f5c3-13ec7568f4ce"
      },
      "source": [
        "from sklearn.model_selection import train_test_split\n",
        "\n",
        "enc_train, enc_val, dec_train, dec_val = train_test_split(src_input, \n",
        "                                                          tgt_input, \n",
        "                                                          test_size=0.2, \n",
        "                                                          shuffle=True, \n",
        "                                                          random_state=12)\n",
        "\n",
        "print(\"Source Train:\", enc_train.shape)\n",
        "print(\"Target Train:\", dec_train.shape)"
      ],
      "execution_count": 9,
      "outputs": [
        {
          "output_type": "stream",
          "text": [
            "Source Train: (130202, 15)\n",
            "Target Train: (130202, 15)\n"
          ],
          "name": "stdout"
        }
      ]
    },
    {
      "cell_type": "markdown",
      "metadata": {
        "id": "Zkn70CI8W0kL"
      },
      "source": [
        "### 데이터셋 생성"
      ]
    },
    {
      "cell_type": "code",
      "metadata": {
        "colab": {
          "base_uri": "https://localhost:8080/"
        },
        "id": "04iNhAgKjgQv",
        "outputId": "1922cbd4-7bb3-4cf8-b20c-3f745d35576b"
      },
      "source": [
        "BUFFER_SIZE = len(enc_train)\n",
        "BATCH_SIZE = 64\n",
        "steps_per_epoch = len(enc_train) // BATCH_SIZE\n",
        "\n",
        "VOCAB_SIZE = tokenizer.num_words + 1   \n",
        "\n",
        "dataset = tf.data.Dataset.from_tensor_slices((enc_train, dec_train))\n",
        "dataset = dataset.shuffle(BUFFER_SIZE)\n",
        "dataset = dataset.batch(BATCH_SIZE, drop_remainder=True)\n",
        "dataset"
      ],
      "execution_count": 10,
      "outputs": [
        {
          "output_type": "execute_result",
          "data": {
            "text/plain": [
              "<BatchDataset shapes: ((64, 15), (64, 15)), types: (tf.int32, tf.int32)>"
            ]
          },
          "metadata": {
            "tags": []
          },
          "execution_count": 10
        }
      ]
    },
    {
      "cell_type": "markdown",
      "metadata": {
        "id": "8JUg-5jNXkrY"
      },
      "source": [
        "### 모델 생성"
      ]
    },
    {
      "cell_type": "code",
      "metadata": {
        "id": "aQ0iXapBjidZ"
      },
      "source": [
        "class TextGenerator(tf.keras.Model):\n",
        "\n",
        "    def __init__(self, vocab_size, embedding_size, hidden_size):\n",
        "        super().__init__()\n",
        "        \n",
        "        self.embedding = tf.keras.layers.Embedding(vocab_size, embedding_size)\n",
        "        self.rnn_1 = tf.keras.layers.LSTM(hidden_size, return_sequences=True)\n",
        "        self.dropput_1 = tf.keras.layers.Dropout(0.2)\n",
        "        self.rnn_2 = tf.keras.layers.LSTM(hidden_size, return_sequences=True)\n",
        "        self.dropput_2 = tf.keras.layers.Dropout(0.2)\n",
        "        self.linear = tf.keras.layers.Dense(vocab_size)\n",
        "        \n",
        "    def call(self, x):\n",
        "        out = self.embedding(x)\n",
        "        out = self.rnn_1(out)\n",
        "        out = self.dropput_1(out)\n",
        "        out = self.rnn_2(out)\n",
        "        out = self.dropput_2(out)\n",
        "        out = self.linear(out)\n",
        "        \n",
        "        return out\n",
        "    \n",
        "embedding_size = 256\n",
        "hidden_size = 1024\n",
        "model = TextGenerator(tokenizer.num_words + 1, embedding_size , hidden_size)"
      ],
      "execution_count": 11,
      "outputs": []
    },
    {
      "cell_type": "markdown",
      "metadata": {
        "id": "DSDUwC5IXsNt"
      },
      "source": [
        "### 모델 학습"
      ]
    },
    {
      "cell_type": "code",
      "metadata": {
        "colab": {
          "base_uri": "https://localhost:8080/"
        },
        "id": "3zYaZxkejkfA",
        "outputId": "0cf073cc-f01b-402f-f0f1-ee8ea8c86eaa"
      },
      "source": [
        "optimizer = tf.keras.optimizers.Adam()\n",
        "loss = tf.keras.losses.SparseCategoricalCrossentropy(\n",
        "    from_logits=True,\n",
        "    reduction='none'\n",
        ")\n",
        "\n",
        "model.compile(loss=loss, optimizer=optimizer)\n",
        "model.fit(dataset, epochs=10, validation_data=(enc_val, dec_val))"
      ],
      "execution_count": 12,
      "outputs": [
        {
          "output_type": "stream",
          "text": [
            "Epoch 1/10\n",
            "2034/2034 [==============================] - 117s 54ms/step - loss: 3.0343 - val_loss: 2.7638\n",
            "Epoch 2/10\n",
            "2034/2034 [==============================] - 110s 54ms/step - loss: 2.6487 - val_loss: 2.5631\n",
            "Epoch 3/10\n",
            "2034/2034 [==============================] - 109s 53ms/step - loss: 2.4368 - val_loss: 2.4409\n",
            "Epoch 4/10\n",
            "2034/2034 [==============================] - 109s 54ms/step - loss: 2.2571 - val_loss: 2.3528\n",
            "Epoch 5/10\n",
            "2034/2034 [==============================] - 110s 54ms/step - loss: 2.0988 - val_loss: 2.2924\n",
            "Epoch 6/10\n",
            "2034/2034 [==============================] - 109s 54ms/step - loss: 1.9603 - val_loss: 2.2505\n",
            "Epoch 7/10\n",
            "2034/2034 [==============================] - 109s 54ms/step - loss: 1.8420 - val_loss: 2.2167\n",
            "Epoch 8/10\n",
            "2034/2034 [==============================] - 109s 53ms/step - loss: 1.7401 - val_loss: 2.1990\n",
            "Epoch 9/10\n",
            "2034/2034 [==============================] - 109s 53ms/step - loss: 1.6535 - val_loss: 2.1874\n",
            "Epoch 10/10\n",
            "2034/2034 [==============================] - 108s 53ms/step - loss: 1.5795 - val_loss: 2.1825\n"
          ],
          "name": "stdout"
        },
        {
          "output_type": "execute_result",
          "data": {
            "text/plain": [
              "<tensorflow.python.keras.callbacks.History at 0x7fbc3dd8d6d0>"
            ]
          },
          "metadata": {
            "tags": []
          },
          "execution_count": 12
        }
      ]
    },
    {
      "cell_type": "markdown",
      "metadata": {
        "id": "WWviLoafXyRd"
      },
      "source": [
        "### 모델 검증"
      ]
    },
    {
      "cell_type": "code",
      "metadata": {
        "colab": {
          "base_uri": "https://localhost:8080/"
        },
        "id": "fHD5TVMOUbyC",
        "outputId": "228b22ca-ff06-4ab3-9c04-500192c90805"
      },
      "source": [
        "result = model.evaluate(x=enc_val, y=dec_val)\n",
        "\n",
        "result"
      ],
      "execution_count": 13,
      "outputs": [
        {
          "output_type": "stream",
          "text": [
            "1018/1018 [==============================] - 9s 9ms/step - loss: 2.1825\n"
          ],
          "name": "stdout"
        },
        {
          "output_type": "execute_result",
          "data": {
            "text/plain": [
              "2.182461738586426"
            ]
          },
          "metadata": {
            "tags": []
          },
          "execution_count": 13
        }
      ]
    },
    {
      "cell_type": "markdown",
      "metadata": {
        "id": "iCw651bbX3bk"
      },
      "source": [
        "## 가사 만들어보기"
      ]
    },
    {
      "cell_type": "code",
      "metadata": {
        "id": "Nl5aIZE1jpUL"
      },
      "source": [
        "def generate_text(model, tokenizer, init_sentence=\"<start>\", max_len=20):\n",
        "    # 테스트를 위해서 입력받은 init_sentence도 텐서로 변환합니다\n",
        "    test_input = tokenizer.texts_to_sequences([init_sentence])\n",
        "    test_tensor = tf.convert_to_tensor(test_input, dtype=tf.int64)\n",
        "    end_token = tokenizer.word_index[\"<end>\"]\n",
        "\n",
        "    # 단어 하나씩 예측해 문장을 만듭니다\n",
        "    #    1. 입력받은 문장의 텐서를 입력합니다\n",
        "    #    2. 예측된 값 중 가장 높은 확률인 word index를 뽑아냅니다\n",
        "    #    3. 2에서 예측된 word index를 문장 뒤에 붙입니다\n",
        "    #    4. 모델이 <end>를 예측했거나, max_len에 도달했다면 문장 생성을 마칩니다\n",
        "    while True:\n",
        "        # 1\n",
        "        predict = model(test_tensor) \n",
        "        # 2\n",
        "        predict_word = tf.argmax(tf.nn.softmax(predict, axis=-1), axis=-1)[:, -1] \n",
        "        # 3 \n",
        "        test_tensor = tf.concat([test_tensor, tf.expand_dims(predict_word, axis=0)], axis=-1)\n",
        "        # 4\n",
        "        if predict_word.numpy()[0] == end_token: break\n",
        "        if test_tensor.shape[1] >= max_len: break\n",
        "\n",
        "    generated = \"\"\n",
        "    # tokenizer를 이용해 word index를 단어로 하나씩 변환합니다 \n",
        "    for word_index in test_tensor[0].numpy():\n",
        "        generated += tokenizer.index_word[word_index] + \" \"\n",
        "\n",
        "    return generated"
      ],
      "execution_count": 14,
      "outputs": []
    },
    {
      "cell_type": "code",
      "metadata": {
        "colab": {
          "base_uri": "https://localhost:8080/",
          "height": 35
        },
        "id": "03ShMvxqmNzU",
        "outputId": "3eab3c67-b981-488e-9aa0-7645c4329cc7"
      },
      "source": [
        "generate_text(model, tokenizer, init_sentence=\"<start> you\")"
      ],
      "execution_count": 30,
      "outputs": [
        {
          "output_type": "execute_result",
          "data": {
            "application/vnd.google.colaboratory.intrinsic+json": {
              "type": "string"
            },
            "text/plain": [
              "'<start> you know you gotta give it your all <end> '"
            ]
          },
          "metadata": {
            "tags": []
          },
          "execution_count": 30
        }
      ]
    },
    {
      "cell_type": "code",
      "metadata": {
        "id": "dUZ_OH45UJBA"
      },
      "source": [
        ""
      ],
      "execution_count": null,
      "outputs": []
    }
  ]
}